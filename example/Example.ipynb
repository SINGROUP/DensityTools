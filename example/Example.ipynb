{
 "cells": [
  {
   "cell_type": "code",
   "execution_count": 1,
   "metadata": {},
   "outputs": [],
   "source": [
    "import numpy as np\n",
    "from DensityTools.system import System\n",
    "from ase.io import read, write\n",
    "import pickle"
   ]
  },
  {
   "cell_type": "code",
   "execution_count": 2,
   "metadata": {},
   "outputs": [],
   "source": [
    "atoms = read('prod.lammpstrj',\n",
    "             format='lammps-dump-text',\n",
    "             index=':',\n",
    "             nameorder={1: \"C\", 2: \"Ca\", 3: \"Hw\", 4: \"O\", 5: \"Ow\"}, # labels\n",
    "             specorder={1: 6, 2: 20, 3: 1, 4: 8, 5: 8} # atomic numbers\n",
    "            )"
   ]
  },
  {
   "cell_type": "code",
   "execution_count": 3,
   "metadata": {},
   "outputs": [],
   "source": [
    "system = System.from_trajectory(atoms, \n",
    "                                rest_atoms_names=['C', 'Ca', 'O'],\n",
    "                                box_atoms_names=['Ow'],\n",
    "                                voxl_size=0.2\n",
    "                               )"
   ]
  },
  {
   "cell_type": "code",
   "execution_count": null,
   "metadata": {},
   "outputs": [],
   "source": []
  }
 ],
 "metadata": {
  "kernelspec": {
   "display_name": "Python 3",
   "language": "python",
   "name": "python3"
  },
  "language_info": {
   "codemirror_mode": {
    "name": "ipython",
    "version": 3
   },
   "file_extension": ".py",
   "mimetype": "text/x-python",
   "name": "python",
   "nbconvert_exporter": "python",
   "pygments_lexer": "ipython3",
   "version": "3.8.2"
  }
 },
 "nbformat": 4,
 "nbformat_minor": 4
}
